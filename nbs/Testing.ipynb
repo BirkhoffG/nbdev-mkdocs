{
 "cells": [
  {
   "cell_type": "code",
   "execution_count": null,
   "id": "56a6cb4a",
   "metadata": {},
   "outputs": [],
   "source": [
    "# | default_exp _testing"
   ]
  },
  {
   "cell_type": "code",
   "execution_count": null,
   "id": "a697536c",
   "metadata": {},
   "outputs": [],
   "source": [
    "# | export\n",
    "\n",
    "\n",
    "import unittest.mock\n",
    "from contextlib import contextmanager\n",
    "from typing import *"
   ]
  },
  {
   "cell_type": "code",
   "execution_count": null,
   "id": "c70f326a",
   "metadata": {},
   "outputs": [],
   "source": [
    "import openai"
   ]
  },
  {
   "cell_type": "code",
   "execution_count": null,
   "id": "f509d477",
   "metadata": {},
   "outputs": [],
   "source": [
    "# | export\n",
    "\n",
    "\n",
    "@contextmanager\n",
    "def mock_openai_Image_create() -> Generator[None, None, None]:\n",
    "    mock = unittest.mock.MagicMock\n",
    "    mock_response = unittest.mock.MagicMock\n",
    "    mock_response.return_value = [\n",
    "        {\n",
    "            \"url\": \"https://github.com/airtai/nbdev-mkdocs/raw/main/mkdocs/docs_overrides/images/default_social_logo.png\"\n",
    "        }\n",
    "    ]\n",
    "    mock.create = mock_response\n",
    "\n",
    "    with unittest.mock.patch(\"openai.Image\") as MockClass:\n",
    "        MockClass.create = mock\n",
    "        yield\n",
    "\n",
    "\n",
    "openai_Image_mock = mock_openai_Image_create()\n",
    "\n",
    "\n",
    "def mock_openai_Image_create_for_notebook() -> None:\n",
    "    global openai_Image_mock\n",
    "\n",
    "    openai_Image_mock.__enter__()"
   ]
  },
  {
   "cell_type": "code",
   "execution_count": null,
   "id": "f7b4241b",
   "metadata": {},
   "outputs": [],
   "source": [
    "with mock_openai_Image_create():\n",
    "    url = openai.Image.create(prompt=\"whatever\", n=1, size=\"512x512\")[\"data\"][0][\"url\"]\n",
    "\n",
    "assert (\n",
    "    url\n",
    "    == \"https://github.com/airtai/nbdev-mkdocs/raw/main/mkdocs/docs_overrides/images/default_social_logo.png\"\n",
    ")"
   ]
  },
  {
   "cell_type": "code",
   "execution_count": null,
   "id": "a58210a3",
   "metadata": {},
   "outputs": [],
   "source": [
    "mock_openai_Image_create_for_notebook()"
   ]
  },
  {
   "cell_type": "code",
   "execution_count": null,
   "id": "ccb94917",
   "metadata": {},
   "outputs": [],
   "source": [
    "url = openai.Image.create(prompt=\"whatever\", n=1, size=\"512x512\")[\"data\"][0][\"url\"]\n",
    "\n",
    "assert (\n",
    "    url\n",
    "    == \"https://github.com/airtai/nbdev-mkdocs/raw/main/mkdocs/docs_overrides/images/default_social_logo.png\"\n",
    ")"
   ]
  },
  {
   "cell_type": "code",
   "execution_count": null,
   "id": "4c475497",
   "metadata": {},
   "outputs": [],
   "source": []
  }
 ],
 "metadata": {
  "kernelspec": {
   "display_name": "python3",
   "language": "python",
   "name": "python3"
  }
 },
 "nbformat": 4,
 "nbformat_minor": 5
}
